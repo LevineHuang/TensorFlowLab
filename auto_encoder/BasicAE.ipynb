{
 "cells": [
  {
   "cell_type": "code",
   "execution_count": 2,
   "metadata": {},
   "outputs": [],
   "source": [
    "import numpy as np\n",
    "import tensorflow as tf\n",
    "%matplotlib inline\n",
    "import matplotlib.pyplot as plt\n"
   ]
  },
  {
   "cell_type": "code",
   "execution_count": 3,
   "metadata": {},
   "outputs": [
    {
     "name": "stdout",
     "output_type": "stream",
     "text": [
      "Extracting ../../data/mnist\\train-images-idx3-ubyte.gz\n",
      "Extracting ../../data/mnist\\train-labels-idx1-ubyte.gz\n",
      "Extracting ../../data/mnist\\t10k-images-idx3-ubyte.gz\n",
      "Extracting ../../data/mnist\\t10k-labels-idx1-ubyte.gz\n"
     ]
    }
   ],
   "source": [
    "from tensorflow.examples.tutorials.mnist import input_data\n",
    "mnist = input_data.read_data_sets('../../data/mnist', one_hot=False)"
   ]
  },
  {
   "cell_type": "code",
   "execution_count": 4,
   "metadata": {},
   "outputs": [
    {
     "data": {
      "text/plain": [
       "<matplotlib.image.AxesImage at 0x5644ac8>"
      ]
     },
     "execution_count": 4,
     "metadata": {},
     "output_type": "execute_result"
    },
    {
     "data": {
      "image/png": "[encoded data removed]",
      "text/plain": [
       "<Figure size 432x288 with 1 Axes>"
      ]
     },
     "metadata": {},
     "output_type": "display_data"
    }
   ],
   "source": [
    "img = mnist.train.images[1]\n",
    "plt.imshow(img.reshape(28, 28))"
   ]
  },
  {
   "cell_type": "code",
   "execution_count": 5,
   "metadata": {},
   "outputs": [],
   "source": [
    "hidden_units = 64\n",
    "input_units = mnist.train.images.shape[1]"
   ]
  },
  {
   "cell_type": "code",
   "execution_count": 6,
   "metadata": {},
   "outputs": [],
   "source": [
    "# 输入层\n",
    "inputs_ = tf.placeholder(tf.float32, (None, input_units), name='inputs_')\n",
    "targets_ = tf.placeholder(tf.float32, (None, input_units), name='targets_')"
   ]
  },
  {
   "cell_type": "code",
   "execution_count": 7,
   "metadata": {},
   "outputs": [],
   "source": [
    "# 隐层\n",
    "hidden_ = tf.layers.dense(inputs_, hidden_units, activation=tf.nn.relu)"
   ]
  },
  {
   "cell_type": "code",
   "execution_count": 8,
   "metadata": {},
   "outputs": [],
   "source": [
    "# 输出层\n",
    "logits_ = tf.layers.dense(hidden_, input_units, activation=None)\n",
    "outputs_ = tf.sigmoid(logits_, name='outputs_')"
   ]
  },
  {
   "cell_type": "code",
   "execution_count": 9,
   "metadata": {},
   "outputs": [],
   "source": [
    "# 损失函数\n",
    "loss = tf.nn.sigmoid_cross_entropy_with_logits(labels=targets_, logits=logits_)\n",
    "cost = tf.reduce_mean(loss)\n",
    "\n",
    "learn_rate = 0.01\n",
    "optmizer = tf.train.AdamOptimizer(learn_rate).minimize(loss)"
   ]
  },
  {
   "cell_type": "code",
   "execution_count": 10,
   "metadata": {},
   "outputs": [
    {
     "name": "stdout",
     "output_type": "stream",
     "text": [
      "Epoch 1/5, iterator 50 Training loss: 0.1685\n",
      "Epoch 2/5, iterator 50 Training loss: 0.0886\n",
      "Epoch 3/5, iterator 50 Training loss: 0.0872\n",
      "Epoch 4/5, iterator 50 Training loss: 0.0849\n",
      "Epoch 5/5, iterator 50 Training loss: 0.0832\n"
     ]
    },
    {
     "data": {
      "image/png": "[encoded data removed]",
      "text/plain": [
       "<Figure size 720x432 with 10 Axes>"
      ]
     },
     "metadata": {},
     "output_type": "display_data"
    }
   ],
   "source": [
    "# 训练\n",
    "epochs = 5\n",
    "batch_size = 128\n",
    "with tf.Session() as sess:\n",
    "    sess.run(tf.global_variables_initializer())\n",
    "    for e in range(epochs):\n",
    "        for idx in range(mnist.train.num_examples // batch_size):\n",
    "            batch = mnist.train.next_batch(batch_size)\n",
    "            batch_cost, _ = sess.run([cost, optmizer],\n",
    "                                     feed_dict={inputs_: batch[0],\n",
    "                                                targets_: batch[0]})\n",
    "            if idx / 50 == 1:\n",
    "                print('Epoch {}/{}, iterator {}'.format(e+1, epochs, idx),\n",
    "                      'Training loss: {:.4f}'.format(batch_cost))\n",
    "            \n",
    "    fig, axes = plt.subplots(nrows=2, ncols=5, sharex=True, sharey=True, figsize=(10,6))\n",
    "    test_imgs = mnist.test.images[:5]\n",
    "    reconstructed, compressed = sess.run([outputs_, hidden_], feed_dict={inputs_: test_imgs})\n",
    "    for image, row in zip([test_imgs, reconstructed], axes):\n",
    "        for img, ax in zip(image, row):\n",
    "            ax.imshow(img.reshape((28, 28)))\n",
    "            ax.get_xaxis().set_visible(False)\n",
    "            ax.get_yaxis().set_visible(False)\n",
    "    \n",
    "    fig.tight_layout(pad=0.1)"
   ]
  },
  {
   "cell_type": "code",
   "execution_count": null,
   "metadata": {},
   "outputs": [],
   "source": []
  }
 ],
 "metadata": {
  "kernelspec": {
   "display_name": "Python 3",
   "language": "python",
   "name": "python3"
  },
  "language_info": {
   "codemirror_mode": {
    "name": "ipython",
    "version": 3
   },
   "file_extension": ".py",
   "mimetype": "text/x-python",
   "name": "python",
   "nbconvert_exporter": "python",
   "pygments_lexer": "ipython3",
   "version": "3.6.6"
  }
 },
 "nbformat": 4,
 "nbformat_minor": 1
}
