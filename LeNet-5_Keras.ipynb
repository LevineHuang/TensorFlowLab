{
 "cells": [
  {
   "cell_type": "code",
   "execution_count": 2,
   "metadata": {},
   "outputs": [
    {
     "name": "stderr",
     "output_type": "stream",
     "text": [
      "C:\\Users\\huanglvjun\\AppData\\Local\\conda\\conda\\envs\\tensorflow\\lib\\site-packages\\h5py\\__init__.py:36: FutureWarning: Conversion of the second argument of issubdtype from `float` to `np.floating` is deprecated. In future, it will be treated as `np.float64 == np.dtype(float).type`.\n",
      "  from ._conv import register_converters as _register_converters\n",
      "Using TensorFlow backend.\n"
     ]
    }
   ],
   "source": [
    "from __future__ import print_function\n",
    "import numpy as np\n",
    "import os\n",
    "\n",
    "import keras\n",
    "from keras.datasets import mnist\n",
    "from keras.models import Sequential\n",
    "from keras.layers import Conv2D, MaxPooling2D, Flatten, Dense\n",
    "from keras.callbacks import TensorBoard\n",
    "import keras.backend as K\n",
    "\n",
    "from keras.models import model_from_json, model_from_yaml\n",
    "from keras.utils import plot_model\n",
    "\n",
    "import matplotlib.pyplot as plt\n",
    "%matplotlib inline\n",
    "import seaborn as sns\n",
    "five_thirty_eight = [\"#30a2da\",\"#fc4f30\",\"#e5ae38\",\"#6d904f\",\"#8b8b8b\",]\n",
    "# Tell seaborn to use the 538 colors\n",
    "sns.set_palette(five_thirty_eight)\n"
   ]
  },
  {
   "cell_type": "code",
   "execution_count": 3,
   "metadata": {},
   "outputs": [],
   "source": [
    "# config\n",
    "batch_size = 128\n",
    "epochs = 10\n",
    "\n",
    "num_classes = 10\n",
    "img_rows, img_cols = 28, 28\n",
    "\n",
    "log_dir = './logs'\n",
    "if not os.path.exists(log_dir):\n",
    "    os.makedirs(log_dir)"
   ]
  },
  {
   "cell_type": "code",
   "execution_count": 4,
   "metadata": {},
   "outputs": [],
   "source": [
    "# 载入数据，数据预处理\n",
    "(x_train, y_train), (x_test, y_test) = mnist.load_data()"
   ]
  },
  {
   "cell_type": "code",
   "execution_count": 5,
   "metadata": {},
   "outputs": [
    {
     "name": "stdout",
     "output_type": "stream",
     "text": [
      "(60000, 28, 28) (60000,)\n",
      "(10000, 28, 28) (10000,)\n"
     ]
    }
   ],
   "source": [
    "print(x_train.shape, y_train.shape)\n",
    "print(x_test.shape, y_test.shape)"
   ]
  },
  {
   "cell_type": "code",
   "execution_count": 6,
   "metadata": {},
   "outputs": [],
   "source": [
    "if K.image_data_format == 'channel_first':\n",
    "    x_train = x_train.reshape(x_train.shape[0], 1, img_rows, img_cols)\n",
    "    x_test = x_test.reshape(x_test.shape[0], 1, img_rows, img_cols)\n",
    "    input_shape = (1, img_rows, img_cols)\n",
    "else:\n",
    "    x_train = x_train.reshape(x_train.shape[0], img_rows, img_cols, 1)\n",
    "    x_test = x_test.reshape(x_test.shape[0], img_rows, img_cols, 1)\n",
    "    input_shape = (img_rows, img_cols, 1)"
   ]
  },
  {
   "cell_type": "code",
   "execution_count": 7,
   "metadata": {},
   "outputs": [
    {
     "name": "stdout",
     "output_type": "stream",
     "text": [
      "5\n",
      "[0. 0. 0. 0. 0. 1. 0. 0. 0. 0.]\n"
     ]
    }
   ],
   "source": [
    "# 归一化\n",
    "x_train = x_train.astype('float32')\n",
    "x_test = x_test.astype('float32')\n",
    "x_train /= 255\n",
    "x_test /= 255\n",
    "\n",
    "# ont-hot\n",
    "print(y_train[0])\n",
    "y_train = keras.utils.to_categorical(y_train)\n",
    "y_test = keras.utils.to_categorical(y_test)\n",
    "print(y_train[0])"
   ]
  },
  {
   "cell_type": "code",
   "execution_count": 8,
   "metadata": {},
   "outputs": [],
   "source": [
    "# 构建模型, 方式一\n",
    "model = Sequential()\n",
    "model.add(Conv2D(filters=6, kernel_size=(5,5), strides=(1,1), padding='valid', activation='tanh', input_shape=input_shape, name='Conv2D_Layer1'))\n",
    "model.add(MaxPooling2D(pool_size=(2,2), padding='valid',name='MaxPooling2D_Layer1'))\n",
    "model.add(Conv2D(filters=16, kernel_size=(5,5), strides=(1,1), padding='valid', activation='tanh', name='Conv2D_Layer2'))\n",
    "model.add(MaxPooling2D(pool_size=(2,2)))\n",
    "model.add(Flatten())\n",
    "model.add(Dense(units=120, activation='tanh'))\n",
    "model.add(Dense(84, activation='tanh'))\n",
    "model.add(Dense(num_classes, activation='softmax'))"
   ]
  },
  {
   "cell_type": "code",
   "execution_count": 9,
   "metadata": {},
   "outputs": [
    {
     "data": {
      "image/svg+xml": [
       "<svg height=\"709pt\" viewBox=\"0.00 0.00 277.00 709.00\" width=\"277pt\" xmlns=\"http://www.w3.org/2000/svg\" xmlns:xlink=\"http://www.w3.org/1999/xlink\">\n",
       "<g class=\"graph\" id=\"graph0\" transform=\"scale(1 1) rotate(0) translate(4 705)\">\n",
       "<title>G</title>\n",
       "<polygon fill=\"white\" points=\"-4,4 -4,-705 273,-705 273,4 -4,4\" stroke=\"none\"/>\n",
       "<!-- 2901912412512 -->\n",
       "<g class=\"node\" id=\"node1\"><title>2901912412512</title>\n",
       "<polygon fill=\"none\" points=\"18.5,-581.5 18.5,-627.5 250.5,-627.5 250.5,-581.5 18.5,-581.5\" stroke=\"black\"/>\n",
       "<text font-family=\"Times New Roman,serif\" font-size=\"14.00\" text-anchor=\"middle\" x=\"50.5\" y=\"-600.8\">Conv2D</text>\n",
       "<polyline fill=\"none\" points=\"82.5,-581.5 82.5,-627.5 \" stroke=\"black\"/>\n",
       "<text font-family=\"Times New Roman,serif\" font-size=\"14.00\" text-anchor=\"middle\" x=\"110.5\" y=\"-612.3\">input:</text>\n",
       "<polyline fill=\"none\" points=\"82.5,-604.5 138.5,-604.5 \" stroke=\"black\"/>\n",
       "<text font-family=\"Times New Roman,serif\" font-size=\"14.00\" text-anchor=\"middle\" x=\"110.5\" y=\"-589.3\">output:</text>\n",
       "<polyline fill=\"none\" points=\"138.5,-581.5 138.5,-627.5 \" stroke=\"black\"/>\n",
       "<text font-family=\"Times New Roman,serif\" font-size=\"14.00\" text-anchor=\"middle\" x=\"194.5\" y=\"-612.3\">(None, 28, 28, 1)</text>\n",
       "<polyline fill=\"none\" points=\"138.5,-604.5 250.5,-604.5 \" stroke=\"black\"/>\n",
       "<text font-family=\"Times New Roman,serif\" font-size=\"14.00\" text-anchor=\"middle\" x=\"194.5\" y=\"-589.3\">(None, 24, 24, 6)</text>\n",
       "</g>\n",
       "<!-- 2901912412960 -->\n",
       "<g class=\"node\" id=\"node2\"><title>2901912412960</title>\n",
       "<polygon fill=\"none\" points=\"0,-498.5 0,-544.5 269,-544.5 269,-498.5 0,-498.5\" stroke=\"black\"/>\n",
       "<text font-family=\"Times New Roman,serif\" font-size=\"14.00\" text-anchor=\"middle\" x=\"50.5\" y=\"-517.8\">MaxPooling2D</text>\n",
       "<polyline fill=\"none\" points=\"101,-498.5 101,-544.5 \" stroke=\"black\"/>\n",
       "<text font-family=\"Times New Roman,serif\" font-size=\"14.00\" text-anchor=\"middle\" x=\"129\" y=\"-529.3\">input:</text>\n",
       "<polyline fill=\"none\" points=\"101,-521.5 157,-521.5 \" stroke=\"black\"/>\n",
       "<text font-family=\"Times New Roman,serif\" font-size=\"14.00\" text-anchor=\"middle\" x=\"129\" y=\"-506.3\">output:</text>\n",
       "<polyline fill=\"none\" points=\"157,-498.5 157,-544.5 \" stroke=\"black\"/>\n",
       "<text font-family=\"Times New Roman,serif\" font-size=\"14.00\" text-anchor=\"middle\" x=\"213\" y=\"-529.3\">(None, 24, 24, 6)</text>\n",
       "<polyline fill=\"none\" points=\"157,-521.5 269,-521.5 \" stroke=\"black\"/>\n",
       "<text font-family=\"Times New Roman,serif\" font-size=\"14.00\" text-anchor=\"middle\" x=\"213\" y=\"-506.3\">(None, 12, 12, 6)</text>\n",
       "</g>\n",
       "<!-- 2901912412512&#45;&gt;2901912412960 -->\n",
       "<g class=\"edge\" id=\"edge2\"><title>2901912412512-&gt;2901912412960</title>\n",
       "<path d=\"M134.5,-581.366C134.5,-573.152 134.5,-563.658 134.5,-554.725\" fill=\"none\" stroke=\"black\"/>\n",
       "<polygon fill=\"black\" points=\"138,-554.607 134.5,-544.607 131,-554.607 138,-554.607\" stroke=\"black\"/>\n",
       "</g>\n",
       "<!-- 2901912414248 -->\n",
       "<g class=\"node\" id=\"node3\"><title>2901912414248</title>\n",
       "<polygon fill=\"none\" points=\"18.5,-415.5 18.5,-461.5 250.5,-461.5 250.5,-415.5 18.5,-415.5\" stroke=\"black\"/>\n",
       "<text font-family=\"Times New Roman,serif\" font-size=\"14.00\" text-anchor=\"middle\" x=\"50.5\" y=\"-434.8\">Conv2D</text>\n",
       "<polyline fill=\"none\" points=\"82.5,-415.5 82.5,-461.5 \" stroke=\"black\"/>\n",
       "<text font-family=\"Times New Roman,serif\" font-size=\"14.00\" text-anchor=\"middle\" x=\"110.5\" y=\"-446.3\">input:</text>\n",
       "<polyline fill=\"none\" points=\"82.5,-438.5 138.5,-438.5 \" stroke=\"black\"/>\n",
       "<text font-family=\"Times New Roman,serif\" font-size=\"14.00\" text-anchor=\"middle\" x=\"110.5\" y=\"-423.3\">output:</text>\n",
       "<polyline fill=\"none\" points=\"138.5,-415.5 138.5,-461.5 \" stroke=\"black\"/>\n",
       "<text font-family=\"Times New Roman,serif\" font-size=\"14.00\" text-anchor=\"middle\" x=\"194.5\" y=\"-446.3\">(None, 12, 12, 6)</text>\n",
       "<polyline fill=\"none\" points=\"138.5,-438.5 250.5,-438.5 \" stroke=\"black\"/>\n",
       "<text font-family=\"Times New Roman,serif\" font-size=\"14.00\" text-anchor=\"middle\" x=\"194.5\" y=\"-423.3\">(None, 8, 8, 16)</text>\n",
       "</g>\n",
       "<!-- 2901912412960&#45;&gt;2901912414248 -->\n",
       "<g class=\"edge\" id=\"edge3\"><title>2901912412960-&gt;2901912414248</title>\n",
       "<path d=\"M134.5,-498.366C134.5,-490.152 134.5,-480.658 134.5,-471.725\" fill=\"none\" stroke=\"black\"/>\n",
       "<polygon fill=\"black\" points=\"138,-471.607 134.5,-461.607 131,-471.607 138,-471.607\" stroke=\"black\"/>\n",
       "</g>\n",
       "<!-- 2901912526688 -->\n",
       "<g class=\"node\" id=\"node4\"><title>2901912526688</title>\n",
       "<polygon fill=\"none\" points=\"3.5,-332.5 3.5,-378.5 265.5,-378.5 265.5,-332.5 3.5,-332.5\" stroke=\"black\"/>\n",
       "<text font-family=\"Times New Roman,serif\" font-size=\"14.00\" text-anchor=\"middle\" x=\"54\" y=\"-351.8\">MaxPooling2D</text>\n",
       "<polyline fill=\"none\" points=\"104.5,-332.5 104.5,-378.5 \" stroke=\"black\"/>\n",
       "<text font-family=\"Times New Roman,serif\" font-size=\"14.00\" text-anchor=\"middle\" x=\"132.5\" y=\"-363.3\">input:</text>\n",
       "<polyline fill=\"none\" points=\"104.5,-355.5 160.5,-355.5 \" stroke=\"black\"/>\n",
       "<text font-family=\"Times New Roman,serif\" font-size=\"14.00\" text-anchor=\"middle\" x=\"132.5\" y=\"-340.3\">output:</text>\n",
       "<polyline fill=\"none\" points=\"160.5,-332.5 160.5,-378.5 \" stroke=\"black\"/>\n",
       "<text font-family=\"Times New Roman,serif\" font-size=\"14.00\" text-anchor=\"middle\" x=\"213\" y=\"-363.3\">(None, 8, 8, 16)</text>\n",
       "<polyline fill=\"none\" points=\"160.5,-355.5 265.5,-355.5 \" stroke=\"black\"/>\n",
       "<text font-family=\"Times New Roman,serif\" font-size=\"14.00\" text-anchor=\"middle\" x=\"213\" y=\"-340.3\">(None, 4, 4, 16)</text>\n",
       "</g>\n",
       "<!-- 2901912414248&#45;&gt;2901912526688 -->\n",
       "<g class=\"edge\" id=\"edge4\"><title>2901912414248-&gt;2901912526688</title>\n",
       "<path d=\"M134.5,-415.366C134.5,-407.152 134.5,-397.658 134.5,-388.725\" fill=\"none\" stroke=\"black\"/>\n",
       "<polygon fill=\"black\" points=\"138,-388.607 134.5,-378.607 131,-388.607 138,-388.607\" stroke=\"black\"/>\n",
       "</g>\n",
       "<!-- 2901912413800 -->\n",
       "<g class=\"node\" id=\"node5\"><title>2901912413800</title>\n",
       "<polygon fill=\"none\" points=\"27,-249.5 27,-295.5 242,-295.5 242,-249.5 27,-249.5\" stroke=\"black\"/>\n",
       "<text font-family=\"Times New Roman,serif\" font-size=\"14.00\" text-anchor=\"middle\" x=\"54\" y=\"-268.8\">Flatten</text>\n",
       "<polyline fill=\"none\" points=\"81,-249.5 81,-295.5 \" stroke=\"black\"/>\n",
       "<text font-family=\"Times New Roman,serif\" font-size=\"14.00\" text-anchor=\"middle\" x=\"109\" y=\"-280.3\">input:</text>\n",
       "<polyline fill=\"none\" points=\"81,-272.5 137,-272.5 \" stroke=\"black\"/>\n",
       "<text font-family=\"Times New Roman,serif\" font-size=\"14.00\" text-anchor=\"middle\" x=\"109\" y=\"-257.3\">output:</text>\n",
       "<polyline fill=\"none\" points=\"137,-249.5 137,-295.5 \" stroke=\"black\"/>\n",
       "<text font-family=\"Times New Roman,serif\" font-size=\"14.00\" text-anchor=\"middle\" x=\"189.5\" y=\"-280.3\">(None, 4, 4, 16)</text>\n",
       "<polyline fill=\"none\" points=\"137,-272.5 242,-272.5 \" stroke=\"black\"/>\n",
       "<text font-family=\"Times New Roman,serif\" font-size=\"14.00\" text-anchor=\"middle\" x=\"189.5\" y=\"-257.3\">(None, 256)</text>\n",
       "</g>\n",
       "<!-- 2901912526688&#45;&gt;2901912413800 -->\n",
       "<g class=\"edge\" id=\"edge5\"><title>2901912526688-&gt;2901912413800</title>\n",
       "<path d=\"M134.5,-332.366C134.5,-324.152 134.5,-314.658 134.5,-305.725\" fill=\"none\" stroke=\"black\"/>\n",
       "<polygon fill=\"black\" points=\"138,-305.607 134.5,-295.607 131,-305.607 138,-305.607\" stroke=\"black\"/>\n",
       "</g>\n",
       "<!-- 2901912525288 -->\n",
       "<g class=\"node\" id=\"node6\"><title>2901912525288</title>\n",
       "<polygon fill=\"none\" points=\"39.5,-166.5 39.5,-212.5 229.5,-212.5 229.5,-166.5 39.5,-166.5\" stroke=\"black\"/>\n",
       "<text font-family=\"Times New Roman,serif\" font-size=\"14.00\" text-anchor=\"middle\" x=\"65\" y=\"-185.8\">Dense</text>\n",
       "<polyline fill=\"none\" points=\"90.5,-166.5 90.5,-212.5 \" stroke=\"black\"/>\n",
       "<text font-family=\"Times New Roman,serif\" font-size=\"14.00\" text-anchor=\"middle\" x=\"118.5\" y=\"-197.3\">input:</text>\n",
       "<polyline fill=\"none\" points=\"90.5,-189.5 146.5,-189.5 \" stroke=\"black\"/>\n",
       "<text font-family=\"Times New Roman,serif\" font-size=\"14.00\" text-anchor=\"middle\" x=\"118.5\" y=\"-174.3\">output:</text>\n",
       "<polyline fill=\"none\" points=\"146.5,-166.5 146.5,-212.5 \" stroke=\"black\"/>\n",
       "<text font-family=\"Times New Roman,serif\" font-size=\"14.00\" text-anchor=\"middle\" x=\"188\" y=\"-197.3\">(None, 256)</text>\n",
       "<polyline fill=\"none\" points=\"146.5,-189.5 229.5,-189.5 \" stroke=\"black\"/>\n",
       "<text font-family=\"Times New Roman,serif\" font-size=\"14.00\" text-anchor=\"middle\" x=\"188\" y=\"-174.3\">(None, 120)</text>\n",
       "</g>\n",
       "<!-- 2901912413800&#45;&gt;2901912525288 -->\n",
       "<g class=\"edge\" id=\"edge6\"><title>2901912413800-&gt;2901912525288</title>\n",
       "<path d=\"M134.5,-249.366C134.5,-241.152 134.5,-231.658 134.5,-222.725\" fill=\"none\" stroke=\"black\"/>\n",
       "<polygon fill=\"black\" points=\"138,-222.607 134.5,-212.607 131,-222.607 138,-222.607\" stroke=\"black\"/>\n",
       "</g>\n",
       "<!-- 2901912681720 -->\n",
       "<g class=\"node\" id=\"node7\"><title>2901912681720</title>\n",
       "<polygon fill=\"none\" points=\"39.5,-83.5 39.5,-129.5 229.5,-129.5 229.5,-83.5 39.5,-83.5\" stroke=\"black\"/>\n",
       "<text font-family=\"Times New Roman,serif\" font-size=\"14.00\" text-anchor=\"middle\" x=\"65\" y=\"-102.8\">Dense</text>\n",
       "<polyline fill=\"none\" points=\"90.5,-83.5 90.5,-129.5 \" stroke=\"black\"/>\n",
       "<text font-family=\"Times New Roman,serif\" font-size=\"14.00\" text-anchor=\"middle\" x=\"118.5\" y=\"-114.3\">input:</text>\n",
       "<polyline fill=\"none\" points=\"90.5,-106.5 146.5,-106.5 \" stroke=\"black\"/>\n",
       "<text font-family=\"Times New Roman,serif\" font-size=\"14.00\" text-anchor=\"middle\" x=\"118.5\" y=\"-91.3\">output:</text>\n",
       "<polyline fill=\"none\" points=\"146.5,-83.5 146.5,-129.5 \" stroke=\"black\"/>\n",
       "<text font-family=\"Times New Roman,serif\" font-size=\"14.00\" text-anchor=\"middle\" x=\"188\" y=\"-114.3\">(None, 120)</text>\n",
       "<polyline fill=\"none\" points=\"146.5,-106.5 229.5,-106.5 \" stroke=\"black\"/>\n",
       "<text font-family=\"Times New Roman,serif\" font-size=\"14.00\" text-anchor=\"middle\" x=\"188\" y=\"-91.3\">(None, 84)</text>\n",
       "</g>\n",
       "<!-- 2901912525288&#45;&gt;2901912681720 -->\n",
       "<g class=\"edge\" id=\"edge7\"><title>2901912525288-&gt;2901912681720</title>\n",
       "<path d=\"M134.5,-166.366C134.5,-158.152 134.5,-148.658 134.5,-139.725\" fill=\"none\" stroke=\"black\"/>\n",
       "<polygon fill=\"black\" points=\"138,-139.607 134.5,-129.607 131,-139.607 138,-139.607\" stroke=\"black\"/>\n",
       "</g>\n",
       "<!-- 2901912760048 -->\n",
       "<g class=\"node\" id=\"node8\"><title>2901912760048</title>\n",
       "<polygon fill=\"none\" points=\"42.5,-0.5 42.5,-46.5 226.5,-46.5 226.5,-0.5 42.5,-0.5\" stroke=\"black\"/>\n",
       "<text font-family=\"Times New Roman,serif\" font-size=\"14.00\" text-anchor=\"middle\" x=\"68\" y=\"-19.8\">Dense</text>\n",
       "<polyline fill=\"none\" points=\"93.5,-0.5 93.5,-46.5 \" stroke=\"black\"/>\n",
       "<text font-family=\"Times New Roman,serif\" font-size=\"14.00\" text-anchor=\"middle\" x=\"121.5\" y=\"-31.3\">input:</text>\n",
       "<polyline fill=\"none\" points=\"93.5,-23.5 149.5,-23.5 \" stroke=\"black\"/>\n",
       "<text font-family=\"Times New Roman,serif\" font-size=\"14.00\" text-anchor=\"middle\" x=\"121.5\" y=\"-8.3\">output:</text>\n",
       "<polyline fill=\"none\" points=\"149.5,-0.5 149.5,-46.5 \" stroke=\"black\"/>\n",
       "<text font-family=\"Times New Roman,serif\" font-size=\"14.00\" text-anchor=\"middle\" x=\"188\" y=\"-31.3\">(None, 84)</text>\n",
       "<polyline fill=\"none\" points=\"149.5,-23.5 226.5,-23.5 \" stroke=\"black\"/>\n",
       "<text font-family=\"Times New Roman,serif\" font-size=\"14.00\" text-anchor=\"middle\" x=\"188\" y=\"-8.3\">(None, 10)</text>\n",
       "</g>\n",
       "<!-- 2901912681720&#45;&gt;2901912760048 -->\n",
       "<g class=\"edge\" id=\"edge8\"><title>2901912681720-&gt;2901912760048</title>\n",
       "<path d=\"M134.5,-83.3664C134.5,-75.1516 134.5,-65.6579 134.5,-56.7252\" fill=\"none\" stroke=\"black\"/>\n",
       "<polygon fill=\"black\" points=\"138,-56.6068 134.5,-46.6068 131,-56.6069 138,-56.6068\" stroke=\"black\"/>\n",
       "</g>\n",
       "<!-- 2901912413352 -->\n",
       "<g class=\"node\" id=\"node9\"><title>2901912413352</title>\n",
       "<polygon fill=\"none\" points=\"82.5,-664.5 82.5,-700.5 186.5,-700.5 186.5,-664.5 82.5,-664.5\" stroke=\"black\"/>\n",
       "<text font-family=\"Times New Roman,serif\" font-size=\"14.00\" text-anchor=\"middle\" x=\"134.5\" y=\"-678.8\">2901912413352</text>\n",
       "</g>\n",
       "<!-- 2901912413352&#45;&gt;2901912412512 -->\n",
       "<g class=\"edge\" id=\"edge1\"><title>2901912413352-&gt;2901912412512</title>\n",
       "<path d=\"M134.5,-664.254C134.5,-656.363 134.5,-646.749 134.5,-637.602\" fill=\"none\" stroke=\"black\"/>\n",
       "<polygon fill=\"black\" points=\"138,-637.591 134.5,-627.591 131,-637.591 138,-637.591\" stroke=\"black\"/>\n",
       "</g>\n",
       "</g>\n",
       "</svg>"
      ],
      "text/plain": [
       "<IPython.core.display.SVG object>"
      ]
     },
     "execution_count": 9,
     "metadata": {},
     "output_type": "execute_result"
    }
   ],
   "source": [
    "from IPython.display import SVG\n",
    "from keras.utils.vis_utils import model_to_dot\n",
    "\n",
    "plot_model(model=model, show_layer_names=True, show_shapes=True, to_file='LeNet-5_keras.png')\n",
    "SVG(model_to_dot(model, show_layer_names=False, show_shapes=True).create(prog='dot', format='svg'))"
   ]
  },
  {
   "cell_type": "code",
   "execution_count": 10,
   "metadata": {},
   "outputs": [],
   "source": [
    "model.compile(loss=keras.losses.categorical_crossentropy, optimizer=keras.optimizers.Adam(), metrics=['accuracy'])"
   ]
  },
  {
   "cell_type": "code",
   "execution_count": 11,
   "metadata": {},
   "outputs": [],
   "source": [
    "# 定义Tensorboard\n",
    "with open(os.path.join(log_dir, 'metadata.tsv'), 'w') as f:\n",
    "    np.savetxt(f, y_test)\n",
    "\n",
    "tensorboard = TensorBoard(batch_size=batch_size, \n",
    "                          embeddings_freq=1, \n",
    "                          embeddings_layer_names=['Conv2D_Layer1'], \n",
    "                          embeddings_metadata='metadata.tsv', \n",
    "                          embeddings_data=x_test)"
   ]
  },
  {
   "cell_type": "code",
   "execution_count": 12,
   "metadata": {
    "scrolled": true
   },
   "outputs": [
    {
     "name": "stdout",
     "output_type": "stream",
     "text": [
      "Train on 100 samples, validate on 10000 samples\n",
      "Epoch 1/10\n",
      "100/100 [==============================] - 4s 37ms/step - loss: 2.3037 - acc: 0.1200 - val_loss: 2.2191 - val_acc: 0.1924\n",
      "Epoch 2/10\n",
      "100/100 [==============================] - 2s 21ms/step - loss: 2.1782 - acc: 0.2600 - val_loss: 2.1682 - val_acc: 0.2960\n",
      "Epoch 3/10\n",
      "100/100 [==============================] - 2s 20ms/step - loss: 2.0860 - acc: 0.3700 - val_loss: 2.1147 - val_acc: 0.3677\n",
      "Epoch 4/10\n",
      "100/100 [==============================] - 2s 22ms/step - loss: 1.9881 - acc: 0.4700 - val_loss: 2.0618 - val_acc: 0.4068\n",
      "Epoch 5/10\n",
      "100/100 [==============================] - 2s 20ms/step - loss: 1.8943 - acc: 0.5300 - val_loss: 2.0081 - val_acc: 0.4351\n",
      "Epoch 6/10\n",
      "100/100 [==============================] - 2s 20ms/step - loss: 1.8050 - acc: 0.5800 - val_loss: 1.9471 - val_acc: 0.4707\n",
      "Epoch 7/10\n",
      "100/100 [==============================] - 2s 19ms/step - loss: 1.7102 - acc: 0.6200 - val_loss: 1.8810 - val_acc: 0.5033\n",
      "Epoch 8/10\n",
      "100/100 [==============================] - 2s 19ms/step - loss: 1.6136 - acc: 0.6700 - val_loss: 1.8108 - val_acc: 0.5271\n",
      "Epoch 9/10\n",
      "100/100 [==============================] - 2s 18ms/step - loss: 1.5159 - acc: 0.7100 - val_loss: 1.7378 - val_acc: 0.5465\n",
      "Epoch 10/10\n",
      "100/100 [==============================] - 2s 20ms/step - loss: 1.4180 - acc: 0.7500 - val_loss: 1.6637 - val_acc: 0.5660\n"
     ]
    }
   ],
   "source": [
    "history = model.fit(x=x_train[:100], y=y_train[:100], batch_size=batch_size, epochs=epochs, callbacks=[tensorboard], validation_data=(x_test,y_test), verbose=1)"
   ]
  },
  {
   "cell_type": "code",
   "execution_count": 13,
   "metadata": {},
   "outputs": [],
   "source": [
    "# 模型保存\n"
   ]
  },
  {
   "cell_type": "markdown",
   "metadata": {},
   "source": [
    "MaxPooling2D和MaxPool2D的区别\n",
    "Convolution2D和Conv2D的区别"
   ]
  }
 ],
 "metadata": {
  "kernelspec": {
   "display_name": "Python 3",
   "language": "python",
   "name": "python3"
  },
  "language_info": {
   "codemirror_mode": {
    "name": "ipython",
    "version": 3
   },
   "file_extension": ".py",
   "mimetype": "text/x-python",
   "name": "python",
   "nbconvert_exporter": "python",
   "pygments_lexer": "ipython3",
   "version": "3.6.6"
  }
 },
 "nbformat": 4,
 "nbformat_minor": 2
}
