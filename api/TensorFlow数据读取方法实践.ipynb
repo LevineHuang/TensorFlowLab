{
 "cells": [
  {
   "cell_type": "markdown",
   "metadata": {
    "run_control": {
     "frozen": false,
     "read_only": false
    }
   },
   "source": [
    "### 引言\n",
    "Tensorflow的数据读取有三种方式：\n",
    "\n",
    "- Preloaded data: 预加载数据\n",
    "- Feeding: Python产生数据，再把数据喂给后端。\n",
    "- Reading from file: 从文件中直接读取\n",
    "\n",
    "### Preload与Feeding\n",
    "#### 二者区别\n",
    "+ Preload:\n",
    "将数据直接内嵌到Graph中，再把Graph传入Session中运行。当数据量比较大时，Graph的传输会遇到效率问题。\n",
    "+ Feeding:\n",
    "用占位符替代数据，待运行的时候填充数据。\n",
    "\n",
    "#### Preload\n",
    "在设计Graph的时候，x1和x2就被定义成了两个有值的列表，在计算y的时候直接取x1和x2的值。\n"
   ]
  },
  {
   "cell_type": "code",
   "execution_count": 1,
   "metadata": {
    "ExecuteTime": {
     "end_time": "2017-10-10T14:12:35.691043Z",
     "start_time": "2017-10-10T14:12:34.748028Z"
    }
   },
   "outputs": [],
   "source": [
    "import tensorflow as tf"
   ]
  },
  {
   "cell_type": "code",
   "execution_count": 4,
   "metadata": {},
   "outputs": [
    {
     "data": {
      "text/plain": [
       "'1.10.0'"
      ]
     },
     "execution_count": 4,
     "metadata": {},
     "output_type": "execute_result"
    }
   ],
   "source": [
    "tf.VERSION"
   ]
  },
  {
   "cell_type": "code",
   "execution_count": 5,
   "metadata": {
    "ExecuteTime": {
     "end_time": "2017-10-10T14:12:35.691043Z",
     "start_time": "2017-10-10T14:12:34.748028Z"
    }
   },
   "outputs": [],
   "source": [
    "config = tf.ConfigProto()\n",
    "config.gpu_options.allow_growth = True #按需申请内存"
   ]
  },
  {
   "cell_type": "code",
   "execution_count": 6,
   "metadata": {
    "ExecuteTime": {
     "end_time": "2017-10-10T14:12:53.119232Z",
     "start_time": "2017-10-10T14:12:51.724422Z"
    },
    "run_control": {
     "frozen": false,
     "read_only": false
    }
   },
   "outputs": [
    {
     "name": "stdout",
     "output_type": "stream",
     "text": [
      "[5 7 9]\n"
     ]
    }
   ],
   "source": [
    "# 设计graph\n",
    "x1 = tf.constant([1, 2, 3])\n",
    "x2 = tf.constant([4, 5, 6])\n",
    "y = tf.add(x1, x2)\n",
    "\n",
    "with tf.Session(config=config) as sess:\n",
    "    print(sess.run(y))"
   ]
  },
  {
   "cell_type": "markdown",
   "metadata": {
    "run_control": {
     "frozen": false,
     "read_only": false
    }
   },
   "source": [
    "#### Feeding\n",
    "在这里x1, x2只是占位符，没有具体的值，那么运行的时候去哪取值呢？这时候就要用到sess.run()中的feed_dict参数，将Python产生的数据喂给后端，并计算y。\n"
   ]
  },
  {
   "cell_type": "code",
   "execution_count": 7,
   "metadata": {
    "run_control": {
     "frozen": false,
     "read_only": false
    }
   },
   "outputs": [
    {
     "name": "stdout",
     "output_type": "stream",
     "text": [
      "[5 7 9]\n"
     ]
    }
   ],
   "source": [
    "import tensorflow as tf\n",
    "\n",
    "x1 = tf.placeholder(tf.int16)\n",
    "x2 = tf.placeholder(tf.int16)\n",
    "y = tf.add(x1, x2)\n",
    "\n",
    "# 产生数据\n",
    "list1 = [1, 2, 3]\n",
    "list2 = [4, 5, 6]\n",
    "\n",
    "with tf.Session() as sess:\n",
    "    print(sess.run(y, feed_dict={x1: list1, x2: list2}))"
   ]
  },
  {
   "cell_type": "markdown",
   "metadata": {
    "run_control": {
     "frozen": false,
     "read_only": false
    }
   },
   "source": [
    "### Reading From File\n",
    "前两种方法很方便，但是遇到大型数据的时候就会很吃力，即使是Feeding，中间环节的增加也是不小的开销，比如数据类型转换等等。最优的方案就是在Graph定义好文件读取的方法，让TF自己去从文件中读取数据，并解码成可使用的样本集。\n",
    "\n",
    "![](AnimatedFileQueues.gif)\n",
    "\n",
    "在上图中，首先由一个单线程把文件名堆入队列，两个Reader同时从队列中取文件名并读取数据，Decoder将读出的数据解码后堆入样本队列，最后单个或批量取出样本（图中没有展示样本出列）。我们这里通过三段代码逐步实现上图的数据流，通过shuffle参数设置，可随机读取数据。"
   ]
  },
  {
   "cell_type": "markdown",
   "metadata": {
    "run_control": {
     "frozen": false,
     "read_only": false
    }
   },
   "source": [
    "#### 数据准备\n",
    "```shell\n",
    "echo -e \"Alpha1,A1\\nAlpha2,A2\\nAlpha3,A3\" > A.csv\n",
    "echo -e \"Bee1,B1\\nBee2,B2\\nBee3,B3\" > B.csv\n",
    "echo -e \"Sea1,C1\\nSea2,C2\\nSea3,C3\" > C.csv\n",
    "cat A.csv\n",
    "Alpha1,A1\n",
    "Alpha2,A2\n",
    "Alpha3,A3\n",
    "```\n",
    "\n",
    "#### 单个Reader，单个样本"
   ]
  },
  {
   "cell_type": "code",
   "execution_count": null,
   "metadata": {
    "run_control": {
     "frozen": false,
     "read_only": false
    }
   },
   "outputs": [],
   "source": [
    "import tensorflow as tf\n",
    "# 生成一个先入先出队列和一个QueueRunner\n",
    "filenames = ['A.csv', 'B.csv', 'C.csv']\n",
    "data_path = \"./data/\"\n",
    "filenames = [data_path + file for file in filenames]\n",
    "print(filenames)\n",
    "filename_queue = tf.train.string_input_producer(filenames, shuffle=True)\n",
    "# 定义Reader\n",
    "reader = tf.TextLineReader()\n",
    "key, value = reader.read(filename_queue)\n",
    "# 定义Decoder\n",
    "example, label = tf.decode_csv(value, record_defaults=[['null'], ['null']])\n",
    "# 运行Graph\n",
    "with tf.Session() as sess:\n",
    "    coord = tf.train.Coordinator()  #创建一个协调器，管理线程\n",
    "    threads = tf.train.start_queue_runners(coord=coord)  #启动QueueRunner, 此时文件名队列已经进队。\n",
    "    for i in range(10):\n",
    "        print(example.eval())  #取样本的时候，一个Reader先从文件名队列中取出文件名，读出数据，Decoder解析后进入样本队列。\n",
    "    coord.request_stop()\n",
    "    coord.join(threads)"
   ]
  },
  {
   "cell_type": "markdown",
   "metadata": {
    "run_control": {
     "frozen": false,
     "read_only": false
    }
   },
   "source": [
    "#### 单个Reader，多个样本"
   ]
  },
  {
   "cell_type": "code",
   "execution_count": 26,
   "metadata": {
    "run_control": {
     "frozen": false,
     "read_only": false
    }
   },
   "outputs": [
    {
     "name": "stdout",
     "output_type": "stream",
     "text": [
      "[b'Alpha1' b'Alpha2' b'Alpha3' b'Bee1' b'Bee2']\n",
      "[b'Bee3' b'Sea1' b'Sea2' b'Sea3' b'Alpha1']\n",
      "[b'Alpha2' b'Alpha3' b'Bee1' b'Bee2' b'Bee3']\n",
      "[b'Sea1' b'Sea2' b'Sea3' b'Alpha1' b'Alpha2']\n",
      "[b'Alpha3' b'Bee1' b'Bee2' b'Bee3' b'Sea1']\n",
      "[b'Sea2' b'Sea3' b'Alpha1' b'Alpha2' b'Alpha3']\n",
      "[b'Bee1' b'Bee2' b'Bee3' b'Sea1' b'Sea2']\n",
      "[b'Sea3' b'Alpha1' b'Alpha2' b'Alpha3' b'Bee1']\n",
      "[b'Bee2' b'Bee3' b'Sea1' b'Sea2' b'Sea3']\n",
      "[b'Alpha1' b'Alpha2' b'Alpha3' b'Bee1' b'Bee2']\n"
     ]
    }
   ],
   "source": [
    "import tensorflow as tf\n",
    "filenames = ['A.csv', 'B.csv', 'C.csv']\n",
    "data_path = \"./data/\"\n",
    "filenames = [data_path + file for file in filenames]\n",
    "\n",
    "filename_queue = tf.train.string_input_producer(filenames, shuffle=False)\n",
    "reader = tf.TextLineReader()\n",
    "key, value = reader.read(filename_queue)\n",
    "example, label = tf.decode_csv(value, record_defaults=[['null'], ['null']])\n",
    "# 使用tf.train.batch()会多加了一个样本队列和一个QueueRunner。Decoder解后数据会进入这个队列，再批量出队。\n",
    "# 虽然这里只有一个Reader，但可以设置多线程，相应增加线程数会提高读取速度，但并不是线程越多越好。\n",
    "example_batch, label_batch = tf.train.batch([example, label], batch_size=5)\n",
    "with tf.Session() as sess:\n",
    "    coord = tf.train.Coordinator()\n",
    "    threads = tf.train.start_queue_runners(coord=coord)\n",
    "    for i in range(10):\n",
    "        print(example_batch.eval())\n",
    "    coord.request_stop()\n",
    "    coord.join(threads)"
   ]
  },
  {
   "cell_type": "markdown",
   "metadata": {
    "run_control": {
     "frozen": false,
     "read_only": false
    }
   },
   "source": [
    "#### 多Reader，多个样本\n",
    "\n",
    "tf.train.batch与tf.train.shuffle_batch函数是单个Reader读取，但是可以多线程。\n",
    "tf.train.batch_join与tf.train.shuffle_batch_join可设置多Reader读取，每个Reader使用一个线程。\n",
    "\n",
    "至于两种方法的效率，单Reader时，2个线程就达到了速度的极限。多Reader时，2个Reader就达到了极限。所以并不是线程越多越快，甚至更多的线程反而会使效率下降。"
   ]
  },
  {
   "cell_type": "code",
   "execution_count": 34,
   "metadata": {
    "run_control": {
     "frozen": false,
     "read_only": false
    }
   },
   "outputs": [
    {
     "name": "stdout",
     "output_type": "stream",
     "text": [
      "[b'Sea1' b'Sea2' b'Sea3' b'Alpha1' b'Alpha2']\n",
      "[b'Alpha3' b'Bee1' b'Bee2' b'Bee3' b'Bee1']\n",
      "[b'Bee2' b'Bee3' b'Sea1' b'Sea2' b'Sea3']\n",
      "[b'Alpha1' b'Alpha2' b'Alpha3' b'Bee1' b'Bee2']\n",
      "[b'Bee3' b'Sea1' b'Sea2' b'Sea3' b'Alpha1']\n",
      "[b'Alpha2' b'Alpha3' b'Bee1' b'Bee2' b'Bee3']\n",
      "[b'Alpha1' b'Alpha2' b'Alpha3' b'Sea1' b'Sea2']\n",
      "[b'Sea3' b'Alpha1' b'Alpha2' b'Alpha3' b'Bee1']\n",
      "[b'Bee2' b'Bee3' b'Sea1' b'Sea2' b'Sea3']\n",
      "[b'Alpha1' b'Alpha2' b'Alpha3' b'Sea1' b'Sea2']\n"
     ]
    }
   ],
   "source": [
    "import tensorflow as tf\n",
    "filenames = ['A.csv', 'B.csv', 'C.csv']\n",
    "data_path = \"./data/\"\n",
    "filenames = [data_path + file for file in filenames]\n",
    "\n",
    "filename_queue = tf.train.string_input_producer(filenames, shuffle=True)\n",
    "reader = tf.TextLineReader()\n",
    "key, value = reader.read(filename_queue)\n",
    "record_defaults = [['null'], ['null']]\n",
    "example_list = [tf.decode_csv(value, record_defaults=record_defaults)\n",
    "                  for _ in range(2)]  # Reader设置为2\n",
    "# 使用tf.train.batch_join()，可以使用多个reader，并行读取数据。每个Reader使用一个线程。\n",
    "example_batch, label_batch = tf.train.batch_join(\n",
    "      example_list, batch_size=5)\n",
    "with tf.Session() as sess:\n",
    "    coord = tf.train.Coordinator()\n",
    "    threads = tf.train.start_queue_runners(coord=coord)\n",
    "    for i in range(10):\n",
    "        print(example_batch.eval())\n",
    "    coord.request_stop()\n",
    "    coord.join(threads)"
   ]
  },
  {
   "cell_type": "markdown",
   "metadata": {
    "run_control": {
     "frozen": false,
     "read_only": false
    }
   },
   "source": [
    "#### 迭代控制"
   ]
  },
  {
   "cell_type": "code",
   "execution_count": 3,
   "metadata": {
    "run_control": {
     "frozen": false,
     "read_only": false
    }
   },
   "outputs": [
    {
     "name": "stdout",
     "output_type": "stream",
     "text": [
      "[b'Alpha1' b'Alpha2' b'Alpha3' b'Bee1' b'Bee2']\n",
      "[b'Bee3' b'Sea1' b'Sea2' b'Sea3' b'Alpha1']\n",
      "[b'Alpha2' b'Alpha3' b'Bee1' b'Bee2' b'Bee3']\n",
      "Epochs Complete!\n"
     ]
    }
   ],
   "source": [
    "import tensorflow as tf\n",
    "filenames = ['A.csv', 'B.csv', 'C.csv']\n",
    "data_path = \"./data/\"\n",
    "filenames = [data_path + file for file in filenames]\n",
    "\n",
    "filename_queue = tf.train.string_input_producer(filenames, shuffle=False, num_epochs=2)  # num_epoch: 设置每个文件迭代数\n",
    "reader = tf.TextLineReader()\n",
    "key, value = reader.read(filename_queue)\n",
    "record_defaults = [['null'], ['null']]\n",
    "example_list = [tf.decode_csv(value, record_defaults=record_defaults) for _ in range(2)]\n",
    "example_batch, label_batch = tf.train.batch_join(example_list, batch_size=5)\n",
    "# init_local_op = tf.initialize_local_variables()  # deprecatd\n",
    "init_local_op = tf.local_variables_initializer()\n",
    "\n",
    "with tf.Session() as sess:\n",
    "    sess.run(init_local_op)   # 初始化本地变量 \n",
    "    coord = tf.train.Coordinator()\n",
    "    threads = tf.train.start_queue_runners(coord=coord)\n",
    "    try:\n",
    "        while not coord.should_stop():\n",
    "            print(example_batch.eval())\n",
    "    except tf.errors.OutOfRangeError:\n",
    "        print('Epochs Complete!')\n",
    "    finally:\n",
    "        coord.request_stop()\n",
    "    coord.join(threads)\n",
    "    coord.request_stop()\n",
    "    coord.join(threads)"
   ]
  }
 ],
 "metadata": {
  "kernelspec": {
   "display_name": "Python 3",
   "language": "python",
   "name": "python3"
  },
  "language_info": {
   "codemirror_mode": {
    "name": "ipython",
    "version": 3
   },
   "file_extension": ".py",
   "mimetype": "text/x-python",
   "name": "python",
   "nbconvert_exporter": "python",
   "pygments_lexer": "ipython3",
   "version": "3.6.6"
  }
 },
 "nbformat": 4,
 "nbformat_minor": 2
}
