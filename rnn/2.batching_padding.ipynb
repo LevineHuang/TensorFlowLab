{
 "cells": [
  {
   "cell_type": "code",
   "execution_count": 2,
   "metadata": {
    "collapsed": true
   },
   "outputs": [],
   "source": [
    "import tensorflow as tf\n",
    "import numpy as np"
   ]
  },
  {
   "cell_type": "markdown",
   "metadata": {},
   "source": [
    "RNN要求出入的样本具有相同的长度（即feature的维度相同）。但训练数据不一定如此，例如，不同句子长度不一样。若果将所有样本长度都填充到样本最大长度，则会大大浪费存储空间，也影响处理效率。\n",
    "\n",
    "TensorFlow提供的tf.train.batch dynamic padding能够在一个batch内，将当前batch内样本数据填充到相同长度，而不是所有训练样本。\n",
    "\n",
    "用“0”填充时，有个问题需要注意，避免填充的“0”与样本数据中的“0”无法区分。"
   ]
  },
  {
   "cell_type": "code",
   "execution_count": 3,
   "metadata": {},
   "outputs": [
    {
     "name": "stdout",
     "output_type": "stream",
     "text": [
      "Tensor(\"y:0\", shape=(?,), dtype=int32)\n",
      "Tensor(\"y_batch:0\", shape=(5, ?), dtype=int32)\n",
      "WARNING:tensorflow:From <ipython-input-3-4c4be2af3439>:30: run_n (from tensorflow.contrib.learn.python.learn.graph_actions) is deprecated and will be removed after 2017-02-15.\n",
      "Instructions for updating:\n",
      "graph_actions.py will be deleted. Use tf.train.* utilities instead. You can use learn/estimators/estimator.py as an example.\n",
      "WARNING:tensorflow:From /opt/anaconda3/lib/python3.6/site-packages/tensorflow/contrib/learn/python/learn/graph_actions.py:842: run_feeds (from tensorflow.contrib.learn.python.learn.graph_actions) is deprecated and will be removed after 2017-02-15.\n",
      "Instructions for updating:\n",
      "graph_actions.py will be deleted. Use tf.train.* utilities instead. You can use learn/estimators/estimator.py as an example.\n",
      "WARNING:tensorflow:From /opt/anaconda3/lib/python3.6/site-packages/tensorflow/contrib/learn/python/learn/graph_actions.py:900: run_feeds_iter (from tensorflow.contrib.learn.python.learn.graph_actions) is deprecated and will be removed after 2017-02-15.\n",
      "Instructions for updating:\n",
      "graph_actions.py will be deleted. Use tf.train.* utilities instead. You can use learn/estimators/estimator.py as an example.\n",
      "Batch shape: (5, 4)\n",
      "[[0 0 0 0]\n",
      " [1 0 0 0]\n",
      " [1 2 0 0]\n",
      " [1 2 3 0]\n",
      " [1 2 3 4]]\n"
     ]
    }
   ],
   "source": [
    "# Example with tf.train.batch dynamic padding\n",
    "# ==================================================\n",
    "\n",
    "tf.reset_default_graph()\n",
    "\n",
    "# Create a tensor [0, 1, 2, 3, 4 ,...]\n",
    "x = tf.range(1, 10, name=\"x\")\n",
    "\n",
    "# A queue that outputs 0,1,2,3,...\n",
    "range_q = tf.train.range_input_producer(limit=5, shuffle=False)\n",
    "slice_end = range_q.dequeue()\n",
    "\n",
    "# Slice x to variable length, i.e. [0], [0, 1], [0, 1, 2], ....\n",
    "y = tf.slice(x, [0], [slice_end], name=\"y\")\n",
    "\n",
    "print(y)\n",
    "\n",
    "# Batch the variable length tensor with dynamic padding\n",
    "batched_data = tf.train.batch(\n",
    "    tensors=[y],\n",
    "    batch_size=5,\n",
    "    dynamic_pad=True,\n",
    "    name=\"y_batch\"\n",
    ")\n",
    "\n",
    "print(batched_data)\n",
    "\n",
    "# Run the graph\n",
    "# tf.contrib.learn takes care of starting the queues for us\n",
    "res = tf.contrib.learn.run_n({\"y\": batched_data}, n=1, feed_dict=None)\n",
    "\n",
    "# Print the result\n",
    "print(\"Batch shape: {}\".format(res[0][\"y\"].shape))\n",
    "print(res[0][\"y\"])\n"
   ]
  },
  {
   "cell_type": "code",
   "execution_count": 5,
   "metadata": {},
   "outputs": [
    {
     "name": "stdout",
     "output_type": "stream",
     "text": [
      "name: \"padding_fifo_queue_enqueue\"\n",
      "op: \"QueueEnqueueV2\"\n",
      "input: \"padding_fifo_queue\"\n",
      "input: \"y\"\n",
      "attr {\n",
      "  key: \"Tcomponents\"\n",
      "  value {\n",
      "    list {\n",
      "      type: DT_INT32\n",
      "    }\n",
      "  }\n",
      "}\n",
      "attr {\n",
      "  key: \"timeout_ms\"\n",
      "  value {\n",
      "    i: -1\n",
      "  }\n",
      "}\n",
      "\n",
      "Tensor(\"padding_fifo_queue_DequeueMany:0\", shape=(5, ?), dtype=int32)\n",
      "WARNING:tensorflow:From <ipython-input-5-f8a357375362>:37: run_n (from tensorflow.contrib.learn.python.learn.graph_actions) is deprecated and will be removed after 2017-02-15.\n",
      "Instructions for updating:\n",
      "graph_actions.py will be deleted. Use tf.train.* utilities instead. You can use learn/estimators/estimator.py as an example.\n",
      "WARNING:tensorflow:From /opt/anaconda3/lib/python3.6/site-packages/tensorflow/contrib/learn/python/learn/graph_actions.py:842: run_feeds (from tensorflow.contrib.learn.python.learn.graph_actions) is deprecated and will be removed after 2017-02-15.\n",
      "Instructions for updating:\n",
      "graph_actions.py will be deleted. Use tf.train.* utilities instead. You can use learn/estimators/estimator.py as an example.\n",
      "WARNING:tensorflow:From /opt/anaconda3/lib/python3.6/site-packages/tensorflow/contrib/learn/python/learn/graph_actions.py:900: run_feeds_iter (from tensorflow.contrib.learn.python.learn.graph_actions) is deprecated and will be removed after 2017-02-15.\n",
      "Instructions for updating:\n",
      "graph_actions.py will be deleted. Use tf.train.* utilities instead. You can use learn/estimators/estimator.py as an example.\n",
      "Batch shape: (5, 4)\n",
      "[[0 0 0 0]\n",
      " [1 0 0 0]\n",
      " [1 2 0 0]\n",
      " [1 2 3 0]\n",
      " [1 2 3 4]]\n"
     ]
    }
   ],
   "source": [
    "# Example with PaddingFIFOQueue\n",
    "# ==================================================\n",
    "\n",
    "tf.reset_default_graph()\n",
    "\n",
    "# Create a tensor [0, 1, 2, 3, 4 ,...]\n",
    "x = tf.range(1, 10, name=\"x\")\n",
    "\n",
    "# A queue that outputs 0,1,2,3,...\n",
    "range_q = tf.train.range_input_producer(limit=5, shuffle=False)\n",
    "slice_end = range_q.dequeue()\n",
    "\n",
    "# Slice x to variable length, i.e. [0], [0, 1], [0, 1, 2], ....\n",
    "y = tf.slice(x, [0], [slice_end], name=\"y\")\n",
    "\n",
    "# Creating a new queue\n",
    "padding_q = tf.PaddingFIFOQueue(\n",
    "    capacity=10,\n",
    "    dtypes=tf.int32,\n",
    "    shapes=[[None]])\n",
    "\n",
    "# Enqueue the examples\n",
    "enqueue_op = padding_q.enqueue([y])\n",
    "print(enqueue_op)\n",
    "\n",
    "# Add the queue runner to the graph\n",
    "qr = tf.train.QueueRunner(padding_q, [enqueue_op])\n",
    "tf.train.add_queue_runner(qr)\n",
    "\n",
    "# Dequeue padded data\n",
    "batched_data = padding_q.dequeue_many(5)\n",
    "\n",
    "print(batched_data)\n",
    "\n",
    "# Run the graph\n",
    "# tf.contrib.learn takes care of starting the queues for us\n",
    "res = tf.contrib.learn.run_n({\"y\": batched_data}, n=1, feed_dict=None)\n",
    "\n",
    "# Print the result\n",
    "print(\"Batch shape: {}\".format(res[0][\"y\"].shape))\n",
    "print(res[0][\"y\"])\n"
   ]
  }
 ],
 "metadata": {
  "kernelspec": {
   "display_name": "Python 3",
   "language": "python",
   "name": "python3"
  },
  "language_info": {
   "codemirror_mode": {
    "name": "ipython",
    "version": 3
   },
   "file_extension": ".py",
   "mimetype": "text/x-python",
   "name": "python",
   "nbconvert_exporter": "python",
   "pygments_lexer": "ipython3",
   "version": "3.6.1"
  }
 },
 "nbformat": 4,
 "nbformat_minor": 1
}
