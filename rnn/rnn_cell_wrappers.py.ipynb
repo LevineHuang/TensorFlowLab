{
 "cells": [
  {
   "cell_type": "code",
   "execution_count": 1,
   "metadata": {
    "collapsed": true
   },
   "outputs": [],
   "source": [
    "import tensorflow as tf\n",
    "import numpy as np"
   ]
  },
  {
   "cell_type": "code",
   "execution_count": 7,
   "metadata": {
    "collapsed": false
   },
   "outputs": [
    {
     "name": "stdout",
     "output_type": "stream",
     "text": [
      "(2, 10, 64)\n",
      "[[[-0.         -0.          0.         ..., -0.          0.          0.00049422]\n",
      "  [-0.00506018 -0.          0.         ..., -0.00153762  0.00940529\n",
      "   -0.00298744]\n",
      "  [-0.         -0.          0.00207412 ..., -0.          0.01325014\n",
      "   -0.00184734]\n",
      "  ..., \n",
      "  [-0.         -0.          0.02858326 ..., -0.          0.0380286   0.        ]\n",
      "  [ 0.         -0.          0.         ..., -0.          0.         -0.        ]\n",
      "  [-0.         -0.          0.         ..., -0.          0.06674728\n",
      "    0.00991639]]\n",
      "\n",
      " [[ 0.          0.         -0.00085455 ..., -0.         -0.00024531 -0.        ]\n",
      "  [-0.         -0.          0.         ..., -0.          0.          0.0001503 ]\n",
      "  [-0.         -0.00071203  0.         ...,  0.          0.00174803\n",
      "   -0.01482452]\n",
      "  ..., \n",
      "  [ 0.          0.          0.         ...,  0.          0.          0.        ]\n",
      "  [ 0.          0.          0.         ...,  0.          0.          0.        ]\n",
      "  [ 0.          0.          0.         ...,  0.          0.          0.        ]]]\n",
      "(2, 64)\n",
      "[[ 0.01297067  0.22907527  0.05139425  0.29435922  0.04605551  0.00754729\n",
      "  -0.02567375 -0.05589294 -0.04368968 -0.13239893  0.12788581 -0.0152978\n",
      "  -0.12564234  0.16885918  0.08673705  0.11510634  0.25851612 -0.15981472\n",
      "  -0.24101715 -0.02910687 -0.05704777 -0.0625448   0.09622846  0.18139745\n",
      "   0.08995436  0.10204869  0.07207662 -0.07396717 -0.0219263   0.01405567\n",
      "   0.17110585  0.01182969 -0.0498644   0.07279543  0.10803916  0.00569787\n",
      "  -0.15314169  0.27198361 -0.14346144  0.15778599  0.0366264   0.24657414\n",
      "  -0.09828316 -0.02579282  0.20024947 -0.08989078  0.08683931  0.32990483\n",
      "  -0.34627406  0.19013834  0.16285538  0.01712701 -0.24724586  0.05107909\n",
      "   0.09261759  0.12964262 -0.06928847  0.05859123 -0.0393647  -0.05223164\n",
      "  -0.12332454  0.22110182 -0.00410163 -0.23566517]\n",
      " [-0.04395366 -0.15176906  0.22472317  0.07080675  0.07240523  0.02736522\n",
      "   0.16006891 -0.01704436 -0.09491751 -0.0216078  -0.00414679  0.03489594\n",
      "  -0.09223871  0.07047478 -0.13670871 -0.01044186 -0.07979238  0.12859565\n",
      "   0.05801918 -0.00884017  0.02661021 -0.00717293 -0.00491826 -0.11241522\n",
      "   0.04202246  0.10015328  0.00875717 -0.04298044 -0.00603086  0.06858007\n",
      "  -0.11210348  0.03872368 -0.01849077 -0.04118327  0.02222942 -0.0317735\n",
      "   0.04579761 -0.14684348  0.07929213 -0.05711392 -0.05404523  0.01521693\n",
      "   0.02289623 -0.0979958  -0.06607561 -0.08151365 -0.08028146 -0.09242943\n",
      "   0.03828567  0.0088612  -0.13851357  0.02198162  0.02416086  0.07779938\n",
      "  -0.03962825 -0.08398527 -0.0602596  -0.17855306 -0.01223452 -0.09552392\n",
      "   0.01105561 -0.00628815 -0.11230546  0.01049755]]\n"
     ]
    }
   ],
   "source": [
    "tf.reset_default_graph()\n",
    "\n",
    "# Create input data\n",
    "X = np.random.randn(2, 10, 8)\n",
    "\n",
    "# The second example is of length 6 \n",
    "X[1,6,:] = 0\n",
    "X_lengths = [10, 6]\n",
    "\n",
    "cell = tf.nn.rnn_cell.LSTMCell(num_units=64, state_is_tuple=True)\n",
    "cell = tf.nn.rnn_cell.DropoutWrapper(cell=cell, output_keep_prob=0.5)\n",
    "cell = tf.nn.rnn_cell.MultiRNNCell(cells=[cell] * 4, state_is_tuple=True)\n",
    "\n",
    "outputs, last_states = tf.nn.dynamic_rnn(\n",
    "    cell=cell,\n",
    "    dtype=tf.float64,\n",
    "    sequence_length=X_lengths,\n",
    "    inputs=X)\n",
    "\n",
    "result = tf.contrib.learn.run_n(\n",
    "    {\"outputs\": outputs, \"last_states\": last_states},\n",
    "    n=1,\n",
    "    feed_dict=None)\n",
    "\n",
    "\n",
    "print(result[0][\"outputs\"].shape)\n",
    "print(result[0][\"outputs\"])\n",
    "assert result[0][\"outputs\"].shape == (2, 10, 64)\n",
    "\n",
    "# Outputs for the second example past past length 6 should be 0\n",
    "assert (result[0][\"outputs\"][1,7,:] == np.zeros(cell.output_size)).all()\n",
    "\n",
    "print(result[0][\"last_states\"][0].h.shape)\n",
    "print(result[0][\"last_states\"][0].h)"
   ]
  },
  {
   "cell_type": "code",
   "execution_count": null,
   "metadata": {
    "collapsed": true
   },
   "outputs": [],
   "source": []
  }
 ],
 "metadata": {
  "kernelspec": {
   "display_name": "Python 3",
   "language": "python",
   "name": "python3"
  },
  "language_info": {
   "codemirror_mode": {
    "name": "ipython",
    "version": 3
   },
   "file_extension": ".py",
   "mimetype": "text/x-python",
   "name": "python",
   "nbconvert_exporter": "python",
   "pygments_lexer": "ipython3",
   "version": "3.5.1"
  }
 },
 "nbformat": 4,
 "nbformat_minor": 0
}
